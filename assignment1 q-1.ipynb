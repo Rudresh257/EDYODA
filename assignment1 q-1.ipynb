{
 "cells": [
  {
   "cell_type": "code",
   "execution_count": 1,
   "id": "a1bf3207",
   "metadata": {},
   "outputs": [
    {
     "name": "stdout",
     "output_type": "stream",
     "text": [
      "Enter no of items9\n",
      "1\n",
      "1\n",
      "2\n",
      "3\n",
      "5\n",
      "8\n",
      "13\n",
      "21\n",
      "34\n",
      "fibonacci series\n"
     ]
    }
   ],
   "source": [
    "num = int(input(\"Enter no of items\"))\n",
    "n1,n2 = 0,1\n",
    "count = 0\n",
    "if(num<=0):\n",
    "    print(\"Enter positive number\")\n",
    "else:\n",
    "    while count<num :\n",
    "        print(n2)\n",
    "        nth = n1+n2\n",
    "        n1=n2\n",
    "        n2=nth\n",
    "        count+=1\n",
    "print(\"fibonacci series\")"
   ]
  },
  {
   "cell_type": "code",
   "execution_count": null,
   "id": "c0aeb5c7",
   "metadata": {},
   "outputs": [],
   "source": []
  }
 ],
 "metadata": {
  "kernelspec": {
   "display_name": "Python 3 (ipykernel)",
   "language": "python",
   "name": "python3"
  },
  "language_info": {
   "codemirror_mode": {
    "name": "ipython",
    "version": 3
   },
   "file_extension": ".py",
   "mimetype": "text/x-python",
   "name": "python",
   "nbconvert_exporter": "python",
   "pygments_lexer": "ipython3",
   "version": "3.10.0"
  }
 },
 "nbformat": 4,
 "nbformat_minor": 5
}
